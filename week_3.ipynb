{
  "nbformat": 4,
  "nbformat_minor": 0,
  "metadata": {
    "colab": {
      "name": "week_3.ipynb",
      "provenance": [],
      "authorship_tag": "ABX9TyMa63yxddYorbVe0EOdQ1vz",
      "include_colab_link": true
    },
    "kernelspec": {
      "name": "python3",
      "display_name": "Python 3"
    }
  },
  "cells": [
    {
      "cell_type": "markdown",
      "metadata": {
        "id": "view-in-github",
        "colab_type": "text"
      },
      "source": [
        "<a href=\"https://colab.research.google.com/github/Ibobo20/Learning-Python-basics-by-university-of-michigan/blob/master/week_3.ipynb\" target=\"_parent\"><img src=\"https://colab.research.google.com/assets/colab-badge.svg\" alt=\"Open In Colab\"/></a>"
      ]
    },
    {
      "cell_type": "code",
      "metadata": {
        "id": "L4ZELbgMZ14_",
        "colab_type": "code",
        "colab": {}
      },
      "source": [
        ""
      ],
      "execution_count": null,
      "outputs": []
    },
    {
      "cell_type": "markdown",
      "metadata": {
        "id": "cvjIV42tOyrX",
        "colab_type": "text"
      },
      "source": [
        "### Week Three Assignment to explain how \"in\" and \"not in\" works"
      ]
    },
    {
      "cell_type": "code",
      "metadata": {
        "id": "4rspAqzvQRA1",
        "colab_type": "code",
        "colab": {
          "base_uri": "https://localhost:8080/",
          "height": 51
        },
        "outputId": "a99f92a4-3d30-4bdb-c909-85e8d4c82f6a"
      },
      "source": [
        "x = 5\n",
        "numb_list = [1, 3, 6, 5, 8]\n",
        "print(x in numb_list)\n",
        " \n",
        "#---------------------------\n",
        "my_list = [\"IPhone\", \"Nokia\", \"Samsung\", \"Sagem\"]\n",
        "print(\"Techno not in my_list\")"
      ],
      "execution_count": null,
      "outputs": [
        {
          "output_type": "stream",
          "text": [
            "True\n",
            "Techno not in my_list\n"
          ],
          "name": "stdout"
        }
      ]
    },
    {
      "cell_type": "markdown",
      "metadata": {
        "id": "sYgqG9TqS4hO",
        "colab_type": "text"
      },
      "source": [
        " From the above examples, the \"in\" and \"not in\" are membership operators that test or check if a variable value exists or not in a sequence."
      ]
    },
    {
      "cell_type": "code",
      "metadata": {
        "id": "N7cJ6dBnUFc-",
        "colab_type": "code",
        "colab": {
          "base_uri": "https://localhost:8080/",
          "height": 51
        },
        "outputId": "1143e583-9cd4-4551-c7b1-20aa852477c5"
      },
      "source": [
        "a = 2\n",
        "b = 3\n",
        "c = 10\n",
        "x = a *c // b + 1\n",
        "print('The value of x is', x)\n",
        "#----------------------------\n",
        "i = 8 \n",
        "y = 13 \n",
        "z = 15\n",
        "i >= y and y != z"
      ],
      "execution_count": null,
      "outputs": [
        {
          "output_type": "stream",
          "text": [
            "The value of x is 7\n"
          ],
          "name": "stdout"
        },
        {
          "output_type": "execute_result",
          "data": {
            "text/plain": [
              "False"
            ]
          },
          "metadata": {
            "tags": []
          },
          "execution_count": 8
        }
      ]
    },
    {
      "cell_type": "markdown",
      "metadata": {
        "id": "hCQgwpq9W91w",
        "colab_type": "text"
      },
      "source": [
        "in python, the operator precedence rules comes into play,when the operator with the highest precedence appears in numeric or bolean expression. From the example above, the integer division symbol is of higher precedence, but the interpreter evaluate the multiplication on the left hand of d expression and that of the addition on the right before performing the division, while in the bolean expression, the relational operators are perform first because they are higher than the bolean operator"
      ]
    },
    {
      "cell_type": "code",
      "metadata": {
        "id": "LCk__2DjZWc3",
        "colab_type": "code",
        "colab": {
          "base_uri": "https://localhost:8080/",
          "height": 153
        },
        "outputId": "e30215e6-258f-4dcb-8ec9-480ddcf45fef"
      },
      "source": [
        "numeric_list = [1, 3, 5, 6, 7, 9, 11]\n",
        "accu = 0\n",
        "for item in numeric_list:\n",
        "    accu = accu + item\n",
        "    print(accu)\n",
        "print(\"Well done!\")"
      ],
      "execution_count": null,
      "outputs": [
        {
          "output_type": "stream",
          "text": [
            "1\n",
            "4\n",
            "9\n",
            "15\n",
            "22\n",
            "31\n",
            "42\n",
            "Well done!\n"
          ],
          "name": "stdout"
        }
      ]
    },
    {
      "cell_type": "code",
      "metadata": {
        "id": "tCEbD9uncUFF",
        "colab_type": "code",
        "colab": {}
      },
      "source": [
        ""
      ],
      "execution_count": null,
      "outputs": []
    },
    {
      "cell_type": "markdown",
      "metadata": {
        "id": "G3Xiuqa7cZpb",
        "colab_type": "text"
      },
      "source": [
        "The accumulator in a program works by summing series of values in a variable list using the iterative construct to check or keep track of the total number of item contained in defined list variable"
      ]
    },
    {
      "cell_type": "code",
      "metadata": {
        "id": "H2enc1EUOpQV",
        "colab_type": "code",
        "colab": {}
      },
      "source": [
        "# Decision marking statement in python are illustrated below with a simple example\n",
        "# to demonstrate how they work\n",
        "       # IF Statement\n",
        "numb = 6 \n",
        "if numb > 10:\n",
        "   print('numb is smaller than 10')"
      ],
      "execution_count": null,
      "outputs": []
    },
    {
      "cell_type": "markdown",
      "metadata": {
        "id": "2y-F8TdDgaDk",
        "colab_type": "text"
      },
      "source": [
        "the if statement above executes the bolean expression when the condition is True"
      ]
    },
    {
      "cell_type": "code",
      "metadata": {
        "id": "FyaWK4AoZ3yA",
        "colab_type": "code",
        "colab": {
          "base_uri": "https://localhost:8080/",
          "height": 34
        },
        "outputId": "849285ef-a3e0-45cf-8e74-829774dc4bfc"
      },
      "source": [
        "       #IF-ELSE Statement\n",
        "numb = 12\n",
        "if numb < 10:\n",
        "   print('numb is smaller than 10')\n",
        "else:\n",
        "    print('numb is greater than 10')"
      ],
      "execution_count": null,
      "outputs": [
        {
          "output_type": "stream",
          "text": [
            "numb is greater than 10\n"
          ],
          "name": "stdout"
        }
      ]
    },
    {
      "cell_type": "markdown",
      "metadata": {
        "id": "mIJ3NVZljd-_",
        "colab_type": "text"
      },
      "source": [
        "The above \"if else\" example evaluates the bolean expression and execute the block code in the else construct"
      ]
    },
    {
      "cell_type": "code",
      "metadata": {
        "id": "RD86p9F7j1Vq",
        "colab_type": "code",
        "colab": {
          "base_uri": "https://localhost:8080/",
          "height": 51
        },
        "outputId": "0ffc8dbc-0631-419a-fd93-12b858df5334"
      },
      "source": [
        "         # chained conditions\n",
        "numb = 10\n",
        "if numb == 0:\n",
        "   print('numb is equal to zero')\n",
        "elif numb >= 5:\n",
        "     print('numb is greater than 5')\n",
        "else:\n",
        "    print('numb is smaller than 5')\n",
        " \n",
        "print('Congrat!')"
      ],
      "execution_count": null,
      "outputs": [
        {
          "output_type": "stream",
          "text": [
            "numb is greater than 5\n",
            "Congrat!\n"
          ],
          "name": "stdout"
        }
      ]
    },
    {
      "cell_type": "code",
      "metadata": {
        "id": "a3puznrwkJsg",
        "colab_type": "code",
        "colab": {
          "base_uri": "https://localhost:8080/",
          "height": 34
        },
        "outputId": "759536bc-f1dd-43b0-dfe7-5296553488ed"
      },
      "source": [
        "       #Nested Conditions\n",
        "numb = 9\n",
        "if numb >= 10:\n",
        "   print('holla')\n",
        "   if numb <= 7:\n",
        "      print('Try more')\n",
        "   else:\n",
        "      print('Checked!')\n",
        "print('moved on')"
      ],
      "execution_count": null,
      "outputs": [
        {
          "output_type": "stream",
          "text": [
            "moved on\n"
          ],
          "name": "stdout"
        }
      ]
    }
  ]
}